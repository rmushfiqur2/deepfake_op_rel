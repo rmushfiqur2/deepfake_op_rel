{
 "cells": [
  {
   "cell_type": "code",
   "execution_count": 1,
   "metadata": {
    "collapsed": true,
    "pycharm": {
     "name": "#%%\n"
    }
   },
   "outputs": [],
   "source": [
    "import torch\n",
    "import torch.nn as nn\n",
    "import torch.optim as optim\n",
    "from torch.utils.data import DataLoader\n",
    "from models.partially_freezed_resnet import get_resnet\n",
    "from utils.losses import ContrastiveLossWithMargin, EuclideanLoss\n",
    "from datasets.base_unsupervised_deepfake import DatasetBaseUnsupervised_deepfake\n",
    "from datasets.base_unsupervised_deepfake_idempotence import DatasetBaseUnsupervised_deepfake_idempotence\n",
    "from datasets.unsupervised_dataset_deepfake import MultiCropDatasetDeepfake\n",
    "import torch.nn.functional as F\n",
    "import matplotlib.pyplot as plt"
   ]
  },
  {
   "cell_type": "code",
   "execution_count": 2,
   "outputs": [
    {
     "data": {
      "text/plain": "CustomModel(\n  (existing_model): ResNet(\n    (conv1): Conv2d(3, 64, kernel_size=(7, 7), stride=(2, 2), padding=(3, 3), bias=False)\n    (bn1): BatchNorm2d(64, eps=1e-05, momentum=0.1, affine=True, track_running_stats=True)\n    (relu): ReLU(inplace=True)\n    (maxpool): MaxPool2d(kernel_size=3, stride=2, padding=1, dilation=1, ceil_mode=False)\n    (layer1): Sequential(\n      (0): Bottleneck(\n        (conv1): Conv2d(64, 64, kernel_size=(1, 1), stride=(1, 1), bias=False)\n        (bn1): BatchNorm2d(64, eps=1e-05, momentum=0.1, affine=True, track_running_stats=True)\n        (conv2): Conv2d(64, 64, kernel_size=(3, 3), stride=(1, 1), padding=(1, 1), bias=False)\n        (bn2): BatchNorm2d(64, eps=1e-05, momentum=0.1, affine=True, track_running_stats=True)\n        (conv3): Conv2d(64, 256, kernel_size=(1, 1), stride=(1, 1), bias=False)\n        (bn3): BatchNorm2d(256, eps=1e-05, momentum=0.1, affine=True, track_running_stats=True)\n        (relu): ReLU(inplace=True)\n        (downsample): Sequential(\n          (0): Conv2d(64, 256, kernel_size=(1, 1), stride=(1, 1), bias=False)\n          (1): BatchNorm2d(256, eps=1e-05, momentum=0.1, affine=True, track_running_stats=True)\n        )\n      )\n      (1): Bottleneck(\n        (conv1): Conv2d(256, 64, kernel_size=(1, 1), stride=(1, 1), bias=False)\n        (bn1): BatchNorm2d(64, eps=1e-05, momentum=0.1, affine=True, track_running_stats=True)\n        (conv2): Conv2d(64, 64, kernel_size=(3, 3), stride=(1, 1), padding=(1, 1), bias=False)\n        (bn2): BatchNorm2d(64, eps=1e-05, momentum=0.1, affine=True, track_running_stats=True)\n        (conv3): Conv2d(64, 256, kernel_size=(1, 1), stride=(1, 1), bias=False)\n        (bn3): BatchNorm2d(256, eps=1e-05, momentum=0.1, affine=True, track_running_stats=True)\n        (relu): ReLU(inplace=True)\n      )\n      (2): Bottleneck(\n        (conv1): Conv2d(256, 64, kernel_size=(1, 1), stride=(1, 1), bias=False)\n        (bn1): BatchNorm2d(64, eps=1e-05, momentum=0.1, affine=True, track_running_stats=True)\n        (conv2): Conv2d(64, 64, kernel_size=(3, 3), stride=(1, 1), padding=(1, 1), bias=False)\n        (bn2): BatchNorm2d(64, eps=1e-05, momentum=0.1, affine=True, track_running_stats=True)\n        (conv3): Conv2d(64, 256, kernel_size=(1, 1), stride=(1, 1), bias=False)\n        (bn3): BatchNorm2d(256, eps=1e-05, momentum=0.1, affine=True, track_running_stats=True)\n        (relu): ReLU(inplace=True)\n      )\n    )\n    (layer2): Sequential(\n      (0): Bottleneck(\n        (conv1): Conv2d(256, 128, kernel_size=(1, 1), stride=(1, 1), bias=False)\n        (bn1): BatchNorm2d(128, eps=1e-05, momentum=0.1, affine=True, track_running_stats=True)\n        (conv2): Conv2d(128, 128, kernel_size=(3, 3), stride=(2, 2), padding=(1, 1), bias=False)\n        (bn2): BatchNorm2d(128, eps=1e-05, momentum=0.1, affine=True, track_running_stats=True)\n        (conv3): Conv2d(128, 512, kernel_size=(1, 1), stride=(1, 1), bias=False)\n        (bn3): BatchNorm2d(512, eps=1e-05, momentum=0.1, affine=True, track_running_stats=True)\n        (relu): ReLU(inplace=True)\n        (downsample): Sequential(\n          (0): Conv2d(256, 512, kernel_size=(1, 1), stride=(2, 2), bias=False)\n          (1): BatchNorm2d(512, eps=1e-05, momentum=0.1, affine=True, track_running_stats=True)\n        )\n      )\n      (1): Bottleneck(\n        (conv1): Conv2d(512, 128, kernel_size=(1, 1), stride=(1, 1), bias=False)\n        (bn1): BatchNorm2d(128, eps=1e-05, momentum=0.1, affine=True, track_running_stats=True)\n        (conv2): Conv2d(128, 128, kernel_size=(3, 3), stride=(1, 1), padding=(1, 1), bias=False)\n        (bn2): BatchNorm2d(128, eps=1e-05, momentum=0.1, affine=True, track_running_stats=True)\n        (conv3): Conv2d(128, 512, kernel_size=(1, 1), stride=(1, 1), bias=False)\n        (bn3): BatchNorm2d(512, eps=1e-05, momentum=0.1, affine=True, track_running_stats=True)\n        (relu): ReLU(inplace=True)\n      )\n      (2): Bottleneck(\n        (conv1): Conv2d(512, 128, kernel_size=(1, 1), stride=(1, 1), bias=False)\n        (bn1): BatchNorm2d(128, eps=1e-05, momentum=0.1, affine=True, track_running_stats=True)\n        (conv2): Conv2d(128, 128, kernel_size=(3, 3), stride=(1, 1), padding=(1, 1), bias=False)\n        (bn2): BatchNorm2d(128, eps=1e-05, momentum=0.1, affine=True, track_running_stats=True)\n        (conv3): Conv2d(128, 512, kernel_size=(1, 1), stride=(1, 1), bias=False)\n        (bn3): BatchNorm2d(512, eps=1e-05, momentum=0.1, affine=True, track_running_stats=True)\n        (relu): ReLU(inplace=True)\n      )\n      (3): Bottleneck(\n        (conv1): Conv2d(512, 128, kernel_size=(1, 1), stride=(1, 1), bias=False)\n        (bn1): BatchNorm2d(128, eps=1e-05, momentum=0.1, affine=True, track_running_stats=True)\n        (conv2): Conv2d(128, 128, kernel_size=(3, 3), stride=(1, 1), padding=(1, 1), bias=False)\n        (bn2): BatchNorm2d(128, eps=1e-05, momentum=0.1, affine=True, track_running_stats=True)\n        (conv3): Conv2d(128, 512, kernel_size=(1, 1), stride=(1, 1), bias=False)\n        (bn3): BatchNorm2d(512, eps=1e-05, momentum=0.1, affine=True, track_running_stats=True)\n        (relu): ReLU(inplace=True)\n      )\n    )\n    (layer3): Sequential(\n      (0): Bottleneck(\n        (conv1): Conv2d(512, 256, kernel_size=(1, 1), stride=(1, 1), bias=False)\n        (bn1): BatchNorm2d(256, eps=1e-05, momentum=0.1, affine=True, track_running_stats=True)\n        (conv2): Conv2d(256, 256, kernel_size=(3, 3), stride=(2, 2), padding=(1, 1), bias=False)\n        (bn2): BatchNorm2d(256, eps=1e-05, momentum=0.1, affine=True, track_running_stats=True)\n        (conv3): Conv2d(256, 1024, kernel_size=(1, 1), stride=(1, 1), bias=False)\n        (bn3): BatchNorm2d(1024, eps=1e-05, momentum=0.1, affine=True, track_running_stats=True)\n        (relu): ReLU(inplace=True)\n        (downsample): Sequential(\n          (0): Conv2d(512, 1024, kernel_size=(1, 1), stride=(2, 2), bias=False)\n          (1): BatchNorm2d(1024, eps=1e-05, momentum=0.1, affine=True, track_running_stats=True)\n        )\n      )\n      (1): Bottleneck(\n        (conv1): Conv2d(1024, 256, kernel_size=(1, 1), stride=(1, 1), bias=False)\n        (bn1): BatchNorm2d(256, eps=1e-05, momentum=0.1, affine=True, track_running_stats=True)\n        (conv2): Conv2d(256, 256, kernel_size=(3, 3), stride=(1, 1), padding=(1, 1), bias=False)\n        (bn2): BatchNorm2d(256, eps=1e-05, momentum=0.1, affine=True, track_running_stats=True)\n        (conv3): Conv2d(256, 1024, kernel_size=(1, 1), stride=(1, 1), bias=False)\n        (bn3): BatchNorm2d(1024, eps=1e-05, momentum=0.1, affine=True, track_running_stats=True)\n        (relu): ReLU(inplace=True)\n      )\n      (2): Bottleneck(\n        (conv1): Conv2d(1024, 256, kernel_size=(1, 1), stride=(1, 1), bias=False)\n        (bn1): BatchNorm2d(256, eps=1e-05, momentum=0.1, affine=True, track_running_stats=True)\n        (conv2): Conv2d(256, 256, kernel_size=(3, 3), stride=(1, 1), padding=(1, 1), bias=False)\n        (bn2): BatchNorm2d(256, eps=1e-05, momentum=0.1, affine=True, track_running_stats=True)\n        (conv3): Conv2d(256, 1024, kernel_size=(1, 1), stride=(1, 1), bias=False)\n        (bn3): BatchNorm2d(1024, eps=1e-05, momentum=0.1, affine=True, track_running_stats=True)\n        (relu): ReLU(inplace=True)\n      )\n      (3): Bottleneck(\n        (conv1): Conv2d(1024, 256, kernel_size=(1, 1), stride=(1, 1), bias=False)\n        (bn1): BatchNorm2d(256, eps=1e-05, momentum=0.1, affine=True, track_running_stats=True)\n        (conv2): Conv2d(256, 256, kernel_size=(3, 3), stride=(1, 1), padding=(1, 1), bias=False)\n        (bn2): BatchNorm2d(256, eps=1e-05, momentum=0.1, affine=True, track_running_stats=True)\n        (conv3): Conv2d(256, 1024, kernel_size=(1, 1), stride=(1, 1), bias=False)\n        (bn3): BatchNorm2d(1024, eps=1e-05, momentum=0.1, affine=True, track_running_stats=True)\n        (relu): ReLU(inplace=True)\n      )\n      (4): Bottleneck(\n        (conv1): Conv2d(1024, 256, kernel_size=(1, 1), stride=(1, 1), bias=False)\n        (bn1): BatchNorm2d(256, eps=1e-05, momentum=0.1, affine=True, track_running_stats=True)\n        (conv2): Conv2d(256, 256, kernel_size=(3, 3), stride=(1, 1), padding=(1, 1), bias=False)\n        (bn2): BatchNorm2d(256, eps=1e-05, momentum=0.1, affine=True, track_running_stats=True)\n        (conv3): Conv2d(256, 1024, kernel_size=(1, 1), stride=(1, 1), bias=False)\n        (bn3): BatchNorm2d(1024, eps=1e-05, momentum=0.1, affine=True, track_running_stats=True)\n        (relu): ReLU(inplace=True)\n      )\n      (5): Bottleneck(\n        (conv1): Conv2d(1024, 256, kernel_size=(1, 1), stride=(1, 1), bias=False)\n        (bn1): BatchNorm2d(256, eps=1e-05, momentum=0.1, affine=True, track_running_stats=True)\n        (conv2): Conv2d(256, 256, kernel_size=(3, 3), stride=(1, 1), padding=(1, 1), bias=False)\n        (bn2): BatchNorm2d(256, eps=1e-05, momentum=0.1, affine=True, track_running_stats=True)\n        (conv3): Conv2d(256, 1024, kernel_size=(1, 1), stride=(1, 1), bias=False)\n        (bn3): BatchNorm2d(1024, eps=1e-05, momentum=0.1, affine=True, track_running_stats=True)\n        (relu): ReLU(inplace=True)\n      )\n    )\n    (layer4): Sequential(\n      (0): Bottleneck(\n        (conv1): Conv2d(1024, 512, kernel_size=(1, 1), stride=(1, 1), bias=False)\n        (bn1): BatchNorm2d(512, eps=1e-05, momentum=0.1, affine=True, track_running_stats=True)\n        (conv2): Conv2d(512, 512, kernel_size=(3, 3), stride=(2, 2), padding=(1, 1), bias=False)\n        (bn2): BatchNorm2d(512, eps=1e-05, momentum=0.1, affine=True, track_running_stats=True)\n        (conv3): Conv2d(512, 2048, kernel_size=(1, 1), stride=(1, 1), bias=False)\n        (bn3): BatchNorm2d(2048, eps=1e-05, momentum=0.1, affine=True, track_running_stats=True)\n        (relu): ReLU(inplace=True)\n        (downsample): Sequential(\n          (0): Conv2d(1024, 2048, kernel_size=(1, 1), stride=(2, 2), bias=False)\n          (1): BatchNorm2d(2048, eps=1e-05, momentum=0.1, affine=True, track_running_stats=True)\n        )\n      )\n      (1): Bottleneck(\n        (conv1): Conv2d(2048, 512, kernel_size=(1, 1), stride=(1, 1), bias=False)\n        (bn1): BatchNorm2d(512, eps=1e-05, momentum=0.1, affine=True, track_running_stats=True)\n        (conv2): Conv2d(512, 512, kernel_size=(3, 3), stride=(1, 1), padding=(1, 1), bias=False)\n        (bn2): BatchNorm2d(512, eps=1e-05, momentum=0.1, affine=True, track_running_stats=True)\n        (conv3): Conv2d(512, 2048, kernel_size=(1, 1), stride=(1, 1), bias=False)\n        (bn3): BatchNorm2d(2048, eps=1e-05, momentum=0.1, affine=True, track_running_stats=True)\n        (relu): ReLU(inplace=True)\n      )\n      (2): Bottleneck(\n        (conv1): Conv2d(2048, 512, kernel_size=(1, 1), stride=(1, 1), bias=False)\n        (bn1): BatchNorm2d(512, eps=1e-05, momentum=0.1, affine=True, track_running_stats=True)\n        (conv2): Conv2d(512, 512, kernel_size=(3, 3), stride=(1, 1), padding=(1, 1), bias=False)\n        (bn2): BatchNorm2d(512, eps=1e-05, momentum=0.1, affine=True, track_running_stats=True)\n        (conv3): Conv2d(512, 2048, kernel_size=(1, 1), stride=(1, 1), bias=False)\n        (bn3): BatchNorm2d(2048, eps=1e-05, momentum=0.1, affine=True, track_running_stats=True)\n        (relu): ReLU(inplace=True)\n      )\n    )\n    (avgpool): AdaptiveAvgPool2d(output_size=(1, 1))\n  )\n  (additional_layer): Linear(in_features=2048, out_features=1792, bias=True)\n)"
     },
     "execution_count": 2,
     "metadata": {},
     "output_type": "execute_result"
    }
   ],
   "source": [
    "device = torch.device('cuda:0') if torch.cuda.is_available() else torch.device('cpu')\n",
    "\n",
    "my_model = get_resnet(device)\n",
    "my_model.load_state_dict(torch.load(\"finetuned only with teacher/finetuned-backbone.pth\"))\n",
    "my_model.to(device)"
   ],
   "metadata": {
    "collapsed": false,
    "pycharm": {
     "name": "#%%\n"
    }
   }
  },
  {
   "cell_type": "code",
   "execution_count": 4,
   "outputs": [
    {
     "name": "stdout",
     "output_type": "stream",
     "text": [
      "Base unsupervised dataloader initialised successfully\n",
      "5415\n"
     ]
    }
   ],
   "source": [
    "# Step 1: Prepare the dataset\n",
    "# Create an instance of your custom dataset\n",
    "deepfake_compact_dataset = DatasetBaseUnsupervised_deepfake('data_deepfake/compact-test/')\n",
    "resized_augmented_dataset = MultiCropDatasetDeepfake(deepfake_compact_dataset,[224],[1],[0.8],[1.0])\n",
    "\n",
    "# Step 3: Specify loss function and optimizer\n",
    "criterion = EuclideanLoss()  # Mean squared error loss\n",
    "criterion_contrast = ContrastiveLossWithMargin(50)\n",
    "# optimizer = optim.SGD(my_model.parameters(), lr=0.001)  # Stochastic Gradient Descent\n",
    "\n",
    "# Create a DataLoader\n",
    "batch_size = 32\n",
    "dataloader = DataLoader(resized_augmented_dataset, batch_size=batch_size, shuffle=False)"
   ],
   "metadata": {
    "collapsed": false,
    "pycharm": {
     "name": "#%%\n"
    }
   }
  },
  {
   "cell_type": "markdown",
   "source": [
    "## Evaluating the learning from teacher and increasing the distance"
   ],
   "metadata": {
    "collapsed": false,
    "pycharm": {
     "name": "#%% md\n"
    }
   }
  },
  {
   "cell_type": "code",
   "execution_count": 8,
   "outputs": [
    {
     "name": "stdout",
     "output_type": "stream",
     "text": [
      "11669.356787109375 1514.9482421875 25896.1875\n",
      "15317.385759420957 10277.041015625 22902.822265625\n",
      "13472.327240349265 9170.47265625 19629.060546875\n"
     ]
    }
   ],
   "source": [
    "# evaluate model:\n",
    "my_model.eval()\n",
    "\n",
    "\n",
    "distances = []\n",
    "losses_teacher_raw = []\n",
    "losses_teacher_recons = []\n",
    "# Iterate over the DataLoader\n",
    "for i, (batch_raw_im, batch_recons_im, batch_raw_features, batch_recons_features) in enumerate(dataloader):\n",
    "    # Process the batch_data and batch_labels here\n",
    "    #print(f\"number of crops: {len(batch_raw_im)}\")\n",
    "    #print(f\"Batch data shape: {batch_raw_im[0].shape}, Batch labels shape: {torch.squeeze(batch_raw_features).shape}\")\n",
    "    with torch.no_grad():\n",
    "        batch_raw_features = torch.squeeze(batch_raw_features)\n",
    "        batch_recons_features = torch.squeeze(batch_recons_features)\n",
    "        out_feature_raw = my_model(batch_raw_im[0].to(device)) # single crops\n",
    "        out_feature_recons = my_model(batch_recons_im[0].to(device)) # # single crops\n",
    "        loss_raw_teacher_net = criterion(out_feature_raw, batch_raw_features)\n",
    "        loss_recons_teacher_net = criterion(out_feature_recons, batch_recons_features)\n",
    "        loss_contrastive, euclidean_distance = criterion_contrast(out_feature_raw, out_feature_recons)\n",
    "        distances.append(euclidean_distance.item())\n",
    "        losses_teacher_raw.append(loss_raw_teacher_net.item())\n",
    "        losses_teacher_recons.append(loss_recons_teacher_net.item())\n",
    "\n",
    "import numpy as np\n",
    "print(np.mean(distances), np.min(distances), np.max(distances))\n",
    "print(np.mean(losses_teacher_raw), np.min(losses_teacher_raw), np.max(losses_teacher_raw))\n",
    "print(np.mean(losses_teacher_recons), np.min(losses_teacher_recons), np.max(losses_teacher_recons))"
   ],
   "metadata": {
    "collapsed": false,
    "pycharm": {
     "name": "#%%\n"
    }
   }
  },
  {
   "cell_type": "markdown",
   "source": [
    "## Evaluating the model on gen and gen-gen data"
   ],
   "metadata": {
    "collapsed": false,
    "pycharm": {
     "name": "#%% md\n"
    }
   }
  },
  {
   "cell_type": "code",
   "execution_count": 9,
   "outputs": [
    {
     "name": "stdout",
     "output_type": "stream",
     "text": [
      "8.570490817462696 6.488631248474121 12.180471420288086\n",
      "2.4400228465304656 1.8118476867675781 3.313544750213623\n",
      "34.162043795866126 24.346328735351562 45.395259857177734\n",
      "8.389133918986602 4.903677940368652 11.299165725708008\n",
      "38.53285890467026 35.18788146972656 42.60418701171875\n",
      "36.721297028485466 33.80253601074219 41.68567657470703\n"
     ]
    }
   ],
   "source": [
    "# Step 1: Prepare the dataset\n",
    "# Create an instance of your custom dataset\n",
    "deepfake_compact_dataset = DatasetBaseUnsupervised_deepfake_idempotence('data_deepfake/compact-test-idempotence/')\n",
    "resized_augmented_dataset = MultiCropDatasetDeepfake(deepfake_compact_dataset,[224],[1],[1.0],[1.0],augment=True)\n",
    "\n",
    "# Step 3: Specify loss function and optimizer\n",
    "criterion = EuclideanLoss()  # Mean squared error loss\n",
    "criterion_contrast = ContrastiveLossWithMargin(50)\n",
    "# optimizer = optim.SGD(my_model.parameters(), lr=0.001)  # Stochastic Gradient Descent\n",
    "\n",
    "# Create a DataLoader\n",
    "batch_size = 32\n",
    "dataloader = DataLoader(resized_augmented_dataset, batch_size=batch_size, shuffle=False)\n",
    "\n",
    "# evaluate model:\n",
    "my_model.eval()\n",
    "\n",
    "\n",
    "distances = []\n",
    "distances_idempotence = []\n",
    "losses_teacher_raw = []\n",
    "losses_teacher_recons = []\n",
    "efficientnet_distances = []\n",
    "efficientnet_distances_idempotence = []\n",
    "# Iterate over the DataLoader\n",
    "for i, (batch_raw_im, batch_recons_im, batch_double_im, batch_raw_features, batch_recons_features, batch_double_features) in enumerate(dataloader):\n",
    "    # Process the batch_data and batch_labels here\n",
    "    #print(f\"number of crops: {len(batch_raw_im)}\")\n",
    "    #print(f\"Batch data shape: {batch_raw_im[0].shape}, Batch labels shape: {torch.squeeze(batch_raw_features).shape}\")\n",
    "    with torch.no_grad():\n",
    "        batch_raw_features = torch.squeeze(batch_raw_features)\n",
    "        batch_recons_features = torch.squeeze(batch_recons_features)\n",
    "        batch_double_features = torch.squeeze(batch_double_features)\n",
    "        out_feature_raw = my_model(batch_raw_im[0].to(device)) # single crops\n",
    "        out_feature_recons = my_model(batch_recons_im[0].to(device)) # # single crops\n",
    "        out_feature_double = my_model(batch_double_im[0].to(device)) # # single crops\n",
    "        loss_raw_teacher_net = criterion(out_feature_raw, batch_raw_features)\n",
    "        loss_recons_teacher_net = criterion(out_feature_recons, batch_recons_features)\n",
    "        loss_contrastive, euclidean_distance = criterion_contrast(out_feature_raw, out_feature_recons)\n",
    "        loss_idempotence, euclidean_idempotence = criterion_contrast(out_feature_recons, out_feature_double)\n",
    "        _, effi_euclidean = criterion_contrast(batch_raw_features, batch_recons_features)\n",
    "        _, effi_euclidean_idempotence = criterion_contrast(batch_recons_features, batch_double_features)\n",
    "        distances.append(euclidean_distance.item())\n",
    "        distances_idempotence.append(euclidean_idempotence.item())\n",
    "        efficientnet_distances.append(effi_euclidean.item())\n",
    "        efficientnet_distances_idempotence.append(effi_euclidean_idempotence.item())\n",
    "        losses_teacher_raw.append(loss_raw_teacher_net.item())\n",
    "        losses_teacher_recons.append(loss_recons_teacher_net.item())\n",
    "\n",
    "\n",
    "import numpy as np\n",
    "print(np.mean(distances), np.min(distances), np.max(distances))\n",
    "print(np.mean(distances_idempotence), np.min(distances_idempotence), np.max(distances_idempotence))\n",
    "print(np.mean(efficientnet_distances), np.min(efficientnet_distances), np.max(efficientnet_distances))\n",
    "print(np.mean(efficientnet_distances_idempotence), np.min(efficientnet_distances_idempotence), np.max(efficientnet_distances_idempotence))\n",
    "print(np.mean(losses_teacher_raw), np.min(losses_teacher_raw), np.max(losses_teacher_raw))\n",
    "print(np.mean(losses_teacher_recons), np.min(losses_teacher_recons), np.max(losses_teacher_recons))"
   ],
   "metadata": {
    "collapsed": false,
    "pycharm": {
     "name": "#%%\n"
    }
   }
  },
  {
   "cell_type": "markdown",
   "source": [
    "## Evaluating the model on real deepfake (swapped data)\n",
    "## using finetuned with only teacher"
   ],
   "metadata": {
    "collapsed": false,
    "pycharm": {
     "name": "#%% md\n"
    }
   }
  },
  {
   "cell_type": "code",
   "execution_count": 31,
   "outputs": [
    {
     "name": "stdout",
     "output_type": "stream",
     "text": [
      "Base unsupervised dataloader initialised successfully\n",
      "3859\n",
      "8.840829429253608 0.1290731132030487 54.979637145996094\n",
      "6.366446273449647 0.029476935043931007 37.6978874206543\n",
      "only teacher tuned  AUC= 0.6499616804619913\n",
      "35.897809194592526 0.06309010088443756 113.6646728515625\n",
      "25.745265996117887 0.06982073187828064 105.45792388916016\n",
      "39.32777338579667 36.19880676269531 42.877601623535156\n",
      "36.32567249644887 32.74309158325195 39.57489013671875\n",
      "Efficientnet  AUC= 0.6534829951971817\n"
     ]
    },
    {
     "data": {
      "text/plain": "Text(0.5, 1.0, 'Probability Density Plot for Data')"
     },
     "execution_count": 31,
     "metadata": {},
     "output_type": "execute_result"
    },
    {
     "data": {
      "text/plain": "<Figure size 432x288 with 1 Axes>",
      "image/png": "[encoded data removed]"
     },
     "metadata": {
      "needs_background": "light"
     },
     "output_type": "display_data"
    },
    {
     "data": {
      "text/plain": "<Figure size 432x288 with 1 Axes>",
      "image/png": "[encoded data removed]"
     },
     "metadata": {
      "needs_background": "light"
     },
     "output_type": "display_data"
    }
   ],
   "source": [
    "# Step 1: Prepare the dataset\n",
    "# Create an instance of your custom dataset\n",
    "deepfake_compact_dataset = DatasetBaseUnsupervised_deepfake_idempotence('data_deepfake/compact-test-swapped/')\n",
    "resized_augmented_dataset = MultiCropDatasetDeepfake(deepfake_compact_dataset,[224],[1],[1.0],[1.0],augment=True)\n",
    "\n",
    "device = torch.device('cuda:0') if torch.cuda.is_available() else torch.device('cpu')\n",
    "\n",
    "my_model = get_resnet(device)\n",
    "my_model.load_state_dict(torch.load(\"finetuned only with teacher/finetuned-backbone.pth\"))\n",
    "my_model.to(device)\n",
    "\n",
    "# Step 3: Specify loss function and optimizer\n",
    "criterion = EuclideanLoss()  # Mean squared error loss\n",
    "criterion_contrast = ContrastiveLossWithMargin(50)\n",
    "# optimizer = optim.SGD(my_model.parameters(), lr=0.001)  # Stochastic Gradient Descent\n",
    "\n",
    "# Create a DataLoader\n",
    "batch_size = 32\n",
    "dataloader = DataLoader(resized_augmented_dataset, batch_size=batch_size, shuffle=False)\n",
    "\n",
    "\n",
    "# evaluate model:\n",
    "my_model.eval()\n",
    "\n",
    "\n",
    "distances = []\n",
    "distances_idempotence = []\n",
    "losses_teacher_raw = []\n",
    "losses_teacher_recons = []\n",
    "efficientnet_distances = []\n",
    "efficientnet_distances_idempotence = []\n",
    "# Iterate over the DataLoader\n",
    "for i, (batch_raw_im, batch_recons_im, batch_double_im, batch_raw_features, batch_recons_features, batch_double_features) in enumerate(dataloader):\n",
    "    # Process the batch_data and batch_labels here\n",
    "    #print(f\"number of crops: {len(batch_raw_im)}\")\n",
    "    #print(f\"Batch data shape: {batch_raw_im[0].shape}, Batch labels shape: {torch.squeeze(batch_raw_features).shape}\")\n",
    "    with torch.no_grad():\n",
    "        batch_raw_features = torch.squeeze(batch_raw_features)\n",
    "        batch_recons_features = torch.squeeze(batch_recons_features)\n",
    "        batch_double_features = torch.squeeze(batch_double_features)\n",
    "        out_feature_raw = my_model(batch_raw_im[0].to(device)) # single crops\n",
    "        out_feature_recons = my_model(batch_recons_im[0].to(device)) # # single crops\n",
    "        out_feature_double = my_model(batch_double_im[0].to(device)) # # single crops\n",
    "        loss_raw_teacher_net = criterion(out_feature_raw, batch_raw_features)\n",
    "        loss_recons_teacher_net = criterion(out_feature_recons, batch_recons_features)\n",
    "        loss_contrastive, euclidean_distance = criterion_contrast(out_feature_raw, out_feature_recons)\n",
    "        euclidean_distance_per_image = torch.pow(F.pairwise_distance(out_feature_raw, out_feature_recons, keepdim = True),2)\n",
    "        loss_idempotence, euclidean_idempotence = criterion_contrast(out_feature_recons, out_feature_double)\n",
    "        euclidean_idempotence_per_image = torch.pow(F.pairwise_distance(out_feature_recons, out_feature_double, keepdim = True),2)\n",
    "        #_, effi_euclidean = criterion_contrast(batch_raw_features, batch_recons_features)\n",
    "        effi_euclidean_distance_per_image = torch.pow(F.pairwise_distance(batch_raw_features, batch_recons_features, keepdim = True),2)\n",
    "        #_, effi_euclidean_idempotence = criterion_contrast(batch_recons_features, batch_double_features)\n",
    "        effi_idempotence_distance_per_image = torch.pow(F.pairwise_distance(batch_recons_features, batch_double_features, keepdim = True),2)\n",
    "        distances.extend(euclidean_distance_per_image.cpu().numpy()[:,0].tolist())\n",
    "        distances_idempotence.extend(euclidean_idempotence_per_image.cpu().numpy()[:,0].tolist())\n",
    "        efficientnet_distances.extend(effi_euclidean_distance_per_image.cpu().numpy()[:,0].tolist())\n",
    "        efficientnet_distances_idempotence.extend(effi_idempotence_distance_per_image.cpu().numpy()[:,0].tolist())\n",
    "        losses_teacher_raw.append(loss_raw_teacher_net.item())\n",
    "        losses_teacher_recons.append(loss_recons_teacher_net.item())\n",
    "\n",
    "\n",
    "import numpy as np\n",
    "from sklearn.metrics import confusion_matrix, roc_curve, auc, classification_report\n",
    "print(np.mean(distances), np.min(distances), np.max(distances))\n",
    "print(np.mean(distances_idempotence), np.min(distances_idempotence), np.max(distances_idempotence))\n",
    "prediction = np.concatenate((distances, distances_idempotence))\n",
    "actual = np.concatenate((np.ones(len(distances)), np.zeros(len(distances_idempotence))))\n",
    "false_pos_rate, true_pos_rate, _ = roc_curve(actual, prediction)\n",
    "roc_auc = auc(false_pos_rate, true_pos_rate)\n",
    "print('only teacher tuned  AUC=', roc_auc)\n",
    "# Create a histogram to visualize the probability density of the data\n",
    "plt.figure()\n",
    "plt.hist(distances, bins=60, density=True, alpha=0.5, color='b', label='Auth')\n",
    "plt.hist(distances_idempotence, bins=60, density=True, alpha=0.5, color='r', label='Deepfake')\n",
    "# Add labels and a title\n",
    "plt.xlabel('Values')\n",
    "plt.ylabel('Probability Density')\n",
    "plt.title('Probability Density Plot for Data')\n",
    "\n",
    "\n",
    "print(np.mean(efficientnet_distances), np.min(efficientnet_distances), np.max(efficientnet_distances))\n",
    "print(np.mean(efficientnet_distances_idempotence), np.min(efficientnet_distances_idempotence), np.max(efficientnet_distances_idempotence))\n",
    "print(np.mean(losses_teacher_raw), np.min(losses_teacher_raw), np.max(losses_teacher_raw))\n",
    "print(np.mean(losses_teacher_recons), np.min(losses_teacher_recons), np.max(losses_teacher_recons))\n",
    "prediction = np.concatenate((efficientnet_distances, efficientnet_distances_idempotence))\n",
    "actual = np.concatenate((np.ones(len(efficientnet_distances)), np.zeros(len(efficientnet_distances_idempotence))))\n",
    "false_pos_rate, true_pos_rate, _ = roc_curve(actual, prediction)\n",
    "roc_auc = auc(false_pos_rate, true_pos_rate)\n",
    "print('Efficientnet  AUC=', roc_auc)\n",
    "plt.figure()\n",
    "plt.hist(efficientnet_distances, bins=60, density=True, alpha=0.5, color='b', label='Auth')\n",
    "plt.hist(efficientnet_distances_idempotence, bins=60, density=True, alpha=0.5, color='r', label='Deepfake')\n",
    "# Add labels and a title\n",
    "plt.xlabel('Values')\n",
    "plt.ylabel('Probability Density')\n",
    "plt.title('Probability Density Plot for Data')"
   ],
   "metadata": {
    "collapsed": false,
    "pycharm": {
     "name": "#%%\n"
    }
   }
  },
  {
   "cell_type": "markdown",
   "source": [
    "## Evaluating the model on real deepfake (swapped data)\n",
    "## using finetuned with test data (initialized with only teacher)"
   ],
   "metadata": {
    "collapsed": false,
    "pycharm": {
     "name": "#%% md\n"
    }
   }
  },
  {
   "cell_type": "code",
   "execution_count": 30,
   "outputs": [
    {
     "name": "stdout",
     "output_type": "stream",
     "text": [
      "19.114920259869663 0.16217675805091858 88.1906967163086\n",
      "11.474222705333876 0.04974912106990814 67.3466567993164\n",
      "test tuned  AUC= 0.6736010044667964\n",
      "35.897809194592526 0.06309010088443756 113.6646728515625\n",
      "25.745265996117887 0.06982073187828064 105.45792388916016\n",
      "8.744761774362612 8.046015739440918 9.455134391784668\n",
      "9.140204910404426 8.247145652770996 9.81661605834961\n",
      "Efficientnet  AUC= 0.6534829951971817\n"
     ]
    },
    {
     "data": {
      "text/plain": "Text(0.5, 1.0, 'Probability Density Plot for Data')"
     },
     "execution_count": 30,
     "metadata": {},
     "output_type": "execute_result"
    },
    {
     "data": {
      "text/plain": "<Figure size 432x288 with 1 Axes>",
      "image/png": "[encoded data removed]"
     },
     "metadata": {
      "needs_background": "light"
     },
     "output_type": "display_data"
    },
    {
     "data": {
      "text/plain": "<Figure size 432x288 with 1 Axes>",
      "image/png": "[encoded data removed]"
     },
     "metadata": {
      "needs_background": "light"
     },
     "output_type": "display_data"
    }
   ],
   "source": [
    "# Step 1: Prepare the dataset\n",
    "# Create an instance of your custom dataset\n",
    "deepfake_compact_dataset = DatasetBaseUnsupervised_deepfake_idempotence('data_deepfake/compact-test-swapped/')\n",
    "resized_augmented_dataset = MultiCropDatasetDeepfake(deepfake_compact_dataset,[224],[1],[1.0],[1.0],augment=True)\n",
    "\n",
    "device = torch.device('cuda:0') if torch.cuda.is_available() else torch.device('cpu')\n",
    "\n",
    "my_model = get_resnet(device)\n",
    "my_model.load_state_dict(torch.load(\"finetuned on compact-test-swapped/finetuned-backbone.pth\"))\n",
    "my_model.to(device)\n",
    "\n",
    "# Step 3: Specify loss function and optimizer\n",
    "criterion = EuclideanLoss()  # Mean squared error loss\n",
    "criterion_contrast = ContrastiveLossWithMargin(50)\n",
    "# optimizer = optim.SGD(my_model.parameters(), lr=0.001)  # Stochastic Gradient Descent\n",
    "\n",
    "# Create a DataLoader\n",
    "batch_size = 32\n",
    "dataloader = DataLoader(resized_augmented_dataset, batch_size=batch_size, shuffle=False)\n",
    "\n",
    "# evaluate model:\n",
    "my_model.eval()\n",
    "\n",
    "\n",
    "distances = []\n",
    "distances_idempotence = []\n",
    "losses_teacher_raw = []\n",
    "losses_teacher_recons = []\n",
    "efficientnet_distances = []\n",
    "efficientnet_distances_idempotence = []\n",
    "# Iterate over the DataLoader\n",
    "for i, (batch_raw_im, batch_recons_im, batch_double_im, batch_raw_features, batch_recons_features, batch_double_features) in enumerate(dataloader):\n",
    "    # Process the batch_data and batch_labels here\n",
    "    #print(f\"number of crops: {len(batch_raw_im)}\")\n",
    "    #print(f\"Batch data shape: {batch_raw_im[0].shape}, Batch labels shape: {torch.squeeze(batch_raw_features).shape}\")\n",
    "    with torch.no_grad():\n",
    "        batch_raw_features = torch.squeeze(batch_raw_features)\n",
    "        batch_recons_features = torch.squeeze(batch_recons_features)\n",
    "        batch_double_features = torch.squeeze(batch_double_features)\n",
    "        out_feature_raw = my_model(batch_raw_im[0].to(device)) # single crops\n",
    "        out_feature_recons = my_model(batch_recons_im[0].to(device)) # # single crops\n",
    "        out_feature_double = my_model(batch_double_im[0].to(device)) # # single crops\n",
    "        loss_raw_teacher_net = criterion(out_feature_raw, batch_raw_features)\n",
    "        loss_recons_teacher_net = criterion(out_feature_recons, batch_recons_features)\n",
    "        loss_contrastive, euclidean_distance = criterion_contrast(out_feature_raw, out_feature_recons)\n",
    "        euclidean_distance_per_image = torch.pow(F.pairwise_distance(out_feature_raw, out_feature_recons, keepdim = True),2)\n",
    "        loss_idempotence, euclidean_idempotence = criterion_contrast(out_feature_recons, out_feature_double)\n",
    "        euclidean_idempotence_per_image = torch.pow(F.pairwise_distance(out_feature_recons, out_feature_double, keepdim = True),2)\n",
    "        #_, effi_euclidean = criterion_contrast(batch_raw_features, batch_recons_features)\n",
    "        effi_euclidean_distance_per_image = torch.pow(F.pairwise_distance(batch_raw_features, batch_recons_features, keepdim = True),2)\n",
    "        #_, effi_euclidean_idempotence = criterion_contrast(batch_recons_features, batch_double_features)\n",
    "        effi_idempotence_distance_per_image = torch.pow(F.pairwise_distance(batch_recons_features, batch_double_features, keepdim = True),2)\n",
    "        distances.extend(euclidean_distance_per_image.cpu().numpy()[:,0].tolist())\n",
    "        distances_idempotence.extend(euclidean_idempotence_per_image.cpu().numpy()[:,0].tolist())\n",
    "        efficientnet_distances.extend(effi_euclidean_distance_per_image.cpu().numpy()[:,0].tolist())\n",
    "        efficientnet_distances_idempotence.extend(effi_idempotence_distance_per_image.cpu().numpy()[:,0].tolist())\n",
    "        losses_teacher_raw.append(loss_raw_teacher_net.item())\n",
    "        losses_teacher_recons.append(loss_recons_teacher_net.item())\n",
    "\n",
    "\n",
    "import numpy as np\n",
    "from sklearn.metrics import confusion_matrix, roc_curve, auc, classification_report\n",
    "print(np.mean(distances), np.min(distances), np.max(distances))\n",
    "print(np.mean(distances_idempotence), np.min(distances_idempotence), np.max(distances_idempotence))\n",
    "prediction = np.concatenate((distances, distances_idempotence))\n",
    "actual = np.concatenate((np.ones(len(distances)), np.zeros(len(distances_idempotence))))\n",
    "false_pos_rate, true_pos_rate, _ = roc_curve(actual, prediction)\n",
    "roc_auc = auc(false_pos_rate, true_pos_rate)\n",
    "print('test tuned  AUC=', roc_auc)\n",
    "# Create a histogram to visualize the probability density of the data\n",
    "plt.figure()\n",
    "plt.hist(distances, bins=60, density=True, alpha=0.5, color='b', label='Auth')\n",
    "plt.hist(distances_idempotence, bins=60, density=True, alpha=0.5, color='r', label='Deepfake')\n",
    "# Add labels and a title\n",
    "plt.xlabel('Values')\n",
    "plt.ylabel('Probability Density')\n",
    "plt.title('Probability Density Plot for Data')\n",
    "\n",
    "\n",
    "print(np.mean(efficientnet_distances), np.min(efficientnet_distances), np.max(efficientnet_distances))\n",
    "print(np.mean(efficientnet_distances_idempotence), np.min(efficientnet_distances_idempotence), np.max(efficientnet_distances_idempotence))\n",
    "print(np.mean(losses_teacher_raw), np.min(losses_teacher_raw), np.max(losses_teacher_raw))\n",
    "print(np.mean(losses_teacher_recons), np.min(losses_teacher_recons), np.max(losses_teacher_recons))\n",
    "prediction = np.concatenate((efficientnet_distances, efficientnet_distances_idempotence))\n",
    "actual = np.concatenate((np.ones(len(efficientnet_distances)), np.zeros(len(efficientnet_distances_idempotence))))\n",
    "false_pos_rate, true_pos_rate, _ = roc_curve(actual, prediction)\n",
    "roc_auc = auc(false_pos_rate, true_pos_rate)\n",
    "print('Efficientnet  AUC=', roc_auc)\n",
    "plt.figure()\n",
    "plt.hist(efficientnet_distances, bins=60, density=True, alpha=0.5, color='b', label='Auth')\n",
    "plt.hist(efficientnet_distances_idempotence, bins=60, density=True, alpha=0.5, color='r', label='Deepfake')\n",
    "# Add labels and a title\n",
    "plt.xlabel('Values')\n",
    "plt.ylabel('Probability Density')\n",
    "plt.title('Probability Density Plot for Data')"
   ],
   "metadata": {
    "collapsed": false,
    "pycharm": {
     "name": "#%%\n"
    }
   }
  },
  {
   "cell_type": "markdown",
   "source": [
    "## EXP 1\n",
    "## Evaluating the model on real deepfake (swapped data)\n",
    "## using finetuned using test data (D11,D22) distance (cropped controlled) (initialized with only teacher)"
   ],
   "metadata": {
    "collapsed": false,
    "pycharm": {
     "name": "#%% md\n"
    }
   }
  },
  {
   "cell_type": "code",
   "execution_count": 3,
   "outputs": [
    {
     "name": "stdout",
     "output_type": "stream",
     "text": [
      "Base unsupervised dataloader initialised successfully\n",
      "3859\n",
      "Base unsupervised dataloader initialised successfully\n",
      "5415\n",
      "327008.21662850206 1.484926462173462 1457049.625\n",
      "160188.78522854298 0.5248475670814514 2508299.75\n",
      "test tuned  AUC= 0.751205262511853\n",
      "34.112833637109205 0.13639600574970245 113.99568176269531\n",
      "25.745265996117887 0.06982073187828064 105.45792388916016\n",
      "225514.39218213057 127871.984375 1148862.5\n",
      "124189.0391967354 45357.4296875 996678.5625\n",
      "Efficientnet  AUC= 0.6438217480116871\n"
     ]
    },
    {
     "data": {
      "text/plain": "Text(0.5, 1.0, 'Probability Density Plot for Data')"
     },
     "execution_count": 3,
     "metadata": {},
     "output_type": "execute_result"
    },
    {
     "data": {
      "text/plain": "<Figure size 432x288 with 1 Axes>",
      "image/png": "[encoded data removed]"
     },
     "metadata": {
      "needs_background": "light"
     },
     "output_type": "display_data"
    },
    {
     "data": {
      "text/plain": "<Figure size 432x288 with 1 Axes>",
      "image/png": "[encoded data removed]"
     },
     "metadata": {
      "needs_background": "light"
     },
     "output_type": "display_data"
    }
   ],
   "source": [
    "# Step 1: Prepare the dataset\n",
    "# Create an instance of your custom dataset\n",
    "# swapped approach dataset\n",
    "deepfake_compact_dataset = DatasetBaseUnsupervised_deepfake_idempotence('data_deepfake/compact-test-swapped/')\n",
    "resized_augmented_dataset = MultiCropDatasetDeepfake(deepfake_compact_dataset,[224],[1],[1.0],[1.0],augment=True)\n",
    "\n",
    "# generator approach dataset\n",
    "deepfake_compact_dataset2 = DatasetBaseUnsupervised_deepfake('data_deepfake/compact-test/')\n",
    "resized_augmented_dataset2 = MultiCropDatasetDeepfake(deepfake_compact_dataset2,[224],[1],[1.0],[1.0],augment=True)\n",
    "\n",
    "device = torch.device('cuda:0') if torch.cuda.is_available() else torch.device('cpu')\n",
    "\n",
    "my_model = get_resnet(device)\n",
    "my_model.load_state_dict(torch.load(\"finetuned on distances crop controlled/finetuned-backbone.pth\"))\n",
    "my_model.to(device)\n",
    "\n",
    "# Step 3: Specify loss function and optimizer\n",
    "criterion = EuclideanLoss()  # Mean squared error loss\n",
    "criterion_contrast = ContrastiveLossWithMargin(50)\n",
    "# optimizer = optim.SGD(my_model.parameters(), lr=0.001)  # Stochastic Gradient Descent\n",
    "\n",
    "# Create a DataLoader\n",
    "batch_size = 32\n",
    "dataloader = DataLoader(resized_augmented_dataset, batch_size=batch_size, shuffle=False)\n",
    "dataloader2 = DataLoader(resized_augmented_dataset2, batch_size=batch_size, shuffle=False)\n",
    "\n",
    "# evaluate model:\n",
    "my_model.eval()\n",
    "\n",
    "\n",
    "distances = []\n",
    "distances_idempotence = []\n",
    "losses_teacher_raw = []\n",
    "losses_teacher_recons = []\n",
    "efficientnet_distances = []\n",
    "efficientnet_distances_idempotence = []\n",
    "# Iterate over the DataLoader\n",
    "for i, (batch_raw_im, batch_recons_im, batch_double_im, batch_raw_features, batch_recons_features, batch_double_features) in enumerate(dataloader):\n",
    "    # Process the batch_data and batch_labels here\n",
    "    #print(f\"number of crops: {len(batch_raw_im)}\")\n",
    "    #print(f\"Batch data shape: {batch_raw_im[0].shape}, Batch labels shape: {torch.squeeze(batch_raw_features).shape}\")\n",
    "    with torch.no_grad():\n",
    "        batch_raw_features = torch.squeeze(batch_raw_features)\n",
    "        batch_recons_features = torch.squeeze(batch_recons_features)\n",
    "        batch_double_features = torch.squeeze(batch_double_features)\n",
    "        out_feature_raw = my_model(batch_raw_im[0].to(device)) # single crops\n",
    "        out_feature_recons = my_model(batch_recons_im[0].to(device)) # # single crops\n",
    "        out_feature_double = my_model(batch_double_im[0].to(device)) # # single crops\n",
    "        loss_raw_teacher_net = criterion(out_feature_raw, batch_raw_features) #D1\n",
    "        loss_recons_teacher_net = criterion(out_feature_recons, batch_recons_features) #D22 (swapped)\n",
    "        #loss_contrastive, euclidean_distance = criterion_contrast(out_feature_raw, out_feature_raw_gen) # dis(D1,D2)\n",
    "        #euclidean_distance_per_image = torch.pow(F.pairwise_distance(out_feature_raw, out_feature_raw_gen, keepdim = True),2)\n",
    "        loss_idempotence, euclidean_idempotence = criterion_contrast(out_feature_recons, out_feature_double) #dis(D22, D3)\n",
    "        euclidean_idempotence_per_image = torch.pow(F.pairwise_distance(out_feature_recons, out_feature_double, keepdim = True),2)\n",
    "        #_, effi_euclidean = criterion_contrast(batch_raw_features, batch_recons_features)\n",
    "        #effi_euclidean_distance_per_image = torch.pow(F.pairwise_distance(batch_raw_features, batch_raw_gen_features, keepdim = True),2)\n",
    "        #_, effi_euclidean_idempotence = criterion_contrast(batch_recons_features, batch_double_features)\n",
    "        effi_idempotence_distance_per_image = torch.pow(F.pairwise_distance(batch_recons_features, batch_double_features, keepdim = True),2)\n",
    "        #distances.extend(euclidean_distance_per_image.cpu().numpy()[:,0].tolist())\n",
    "        distances_idempotence.extend(euclidean_idempotence_per_image.cpu().numpy()[:,0].tolist())\n",
    "        #efficientnet_distances.extend(effi_euclidean_distance_per_image.cpu().numpy()[:,0].tolist())\n",
    "        efficientnet_distances_idempotence.extend(effi_idempotence_distance_per_image.cpu().numpy()[:,0].tolist())\n",
    "        losses_teacher_raw.append(loss_raw_teacher_net.item())\n",
    "        losses_teacher_recons.append(loss_recons_teacher_net.item())\n",
    "\n",
    "for i, (batch_raw_im, batch_recons_im, batch_raw_features, batch_recons_features) in enumerate(dataloader2):\n",
    "    # Process the batch_data and batch_labels here\n",
    "    #print(f\"number of crops: {len(batch_raw_im)}\")\n",
    "    #print(f\"Batch data shape: {batch_raw_im[0].shape}, Batch labels shape: {torch.squeeze(batch_raw_features).shape}\")\n",
    "    with torch.no_grad():\n",
    "        batch_raw_features = torch.squeeze(batch_raw_features)\n",
    "        batch_recons_features = torch.squeeze(batch_recons_features)\n",
    "        out_feature_raw = my_model(batch_raw_im[0].to(device)) # single crops\n",
    "        out_feature_recons = my_model(batch_recons_im[0].to(device)) # # single crops\n",
    "        loss_raw_teacher_net = criterion(out_feature_raw, batch_raw_features) #D1\n",
    "        loss_recons_teacher_net = criterion(out_feature_recons, batch_recons_features) #D2 (swapped)\n",
    "        loss_contrastive, euclidean_distance = criterion_contrast(out_feature_raw, out_feature_recons) # dis(D1,D2)\n",
    "        euclidean_distance_per_image = torch.pow(F.pairwise_distance(out_feature_raw, out_feature_recons, keepdim = True),2)\n",
    "\n",
    "        effi_euclidean_distance_per_image = torch.pow(F.pairwise_distance(batch_raw_features, batch_recons_features, keepdim = True),2)\n",
    "        distances.extend(euclidean_distance_per_image.cpu().numpy()[:,0].tolist())\n",
    "        efficientnet_distances.extend(effi_euclidean_distance_per_image.cpu().numpy()[:,0].tolist())\n",
    "        losses_teacher_raw.append(loss_raw_teacher_net.item())\n",
    "        losses_teacher_recons.append(loss_recons_teacher_net.item())\n",
    "\n",
    "import numpy as np\n",
    "from sklearn.metrics import confusion_matrix, roc_curve, auc, classification_report\n",
    "print(np.mean(distances), np.min(distances), np.max(distances))\n",
    "print(np.mean(distances_idempotence), np.min(distances_idempotence), np.max(distances_idempotence))\n",
    "prediction = np.concatenate((distances, distances_idempotence))\n",
    "actual = np.concatenate((np.ones(len(distances)), np.zeros(len(distances_idempotence))))\n",
    "false_pos_rate, true_pos_rate, _ = roc_curve(actual, prediction)\n",
    "roc_auc = auc(false_pos_rate, true_pos_rate)\n",
    "print('test tuned  AUC=', roc_auc)\n",
    "# Create a histogram to visualize the probability density of the data\n",
    "plt.figure()\n",
    "plt.hist(distances, bins=60, density=True, alpha=0.5, color='b', label='Auth')\n",
    "plt.hist(distances_idempotence, bins=60, density=True, alpha=0.5, color='r', label='Deepfake')\n",
    "# Add labels and a title\n",
    "plt.xlabel('Values')\n",
    "plt.ylabel('Probability Density')\n",
    "plt.title('Probability Density Plot for Data')\n",
    "\n",
    "\n",
    "print(np.mean(efficientnet_distances), np.min(efficientnet_distances), np.max(efficientnet_distances))\n",
    "print(np.mean(efficientnet_distances_idempotence), np.min(efficientnet_distances_idempotence), np.max(efficientnet_distances_idempotence))\n",
    "print(np.mean(losses_teacher_raw), np.min(losses_teacher_raw), np.max(losses_teacher_raw))\n",
    "print(np.mean(losses_teacher_recons), np.min(losses_teacher_recons), np.max(losses_teacher_recons))\n",
    "prediction = np.concatenate((efficientnet_distances, efficientnet_distances_idempotence))\n",
    "actual = np.concatenate((np.ones(len(efficientnet_distances)), np.zeros(len(efficientnet_distances_idempotence))))\n",
    "false_pos_rate, true_pos_rate, _ = roc_curve(actual, prediction)\n",
    "roc_auc = auc(false_pos_rate, true_pos_rate)\n",
    "print('Efficientnet  AUC=', roc_auc)\n",
    "plt.figure()\n",
    "plt.hist(efficientnet_distances, bins=60, density=True, alpha=0.5, color='b', label='Auth')\n",
    "plt.hist(efficientnet_distances_idempotence, bins=60, density=True, alpha=0.5, color='r', label='Deepfake')\n",
    "# Add labels and a title\n",
    "plt.xlabel('Values')\n",
    "plt.ylabel('Probability Density')\n",
    "plt.title('Probability Density Plot for Data')"
   ],
   "metadata": {
    "collapsed": false,
    "pycharm": {
     "name": "#%%\n"
    }
   }
  },
  {
   "cell_type": "markdown",
   "source": [
    "## EXP 3\n",
    "## Evaluating the model on real deepfake (swapped data) and D1-D2\n",
    "## using finetuned using train data (D1,D2) distance (cropped controlled) (initialized with FLR)"
   ],
   "metadata": {
    "collapsed": false,
    "pycharm": {
     "name": "#%% md\n"
    }
   }
  },
  {
   "cell_type": "code",
   "execution_count": 4,
   "outputs": [
    {
     "name": "stdout",
     "output_type": "stream",
     "text": [
      "Base unsupervised dataloader initialised successfully\n",
      "3859\n",
      "Base unsupervised dataloader initialised successfully\n",
      "5415\n",
      "2886681.4417951717 0.4732377529144287 90190432.0\n",
      "1560346.1558542487 17.022769927978516 55548032.0\n",
      "celebdf tuned  AUC= 0.579319009871756\n",
      "34.112833637109205 0.13639600574970245 113.99568176269531\n",
      "25.745265996117887 0.06982073187828064 105.45792388916016\n",
      "13495187.64089347 6277160.0 23081992.0\n",
      "6849507.223367698 2710404.5 13255580.0\n",
      "Efficientnet  AUC= 0.6438217480116871\n"
     ]
    },
    {
     "data": {
      "text/plain": "Text(0.5, 1.0, 'Probability Density Plot for Data')"
     },
     "execution_count": 4,
     "metadata": {},
     "output_type": "execute_result"
    },
    {
     "data": {
      "text/plain": "<Figure size 432x288 with 1 Axes>",
      "image/png": "[encoded data removed]"
     },
     "metadata": {
      "needs_background": "light"
     },
     "output_type": "display_data"
    },
    {
     "data": {
      "text/plain": "<Figure size 432x288 with 1 Axes>",
      "image/png": "[encoded data removed]"
     },
     "metadata": {
      "needs_background": "light"
     },
     "output_type": "display_data"
    }
   ],
   "source": [
    "# Step 1: Prepare the dataset\n",
    "# Create an instance of your custom dataset\n",
    "# swapped approach dataset\n",
    "deepfake_compact_dataset = DatasetBaseUnsupervised_deepfake_idempotence('data_deepfake/compact-test-swapped/')\n",
    "resized_augmented_dataset = MultiCropDatasetDeepfake(deepfake_compact_dataset,[224],[1],[1.0],[1.0],augment=True)\n",
    "\n",
    "# generator approach dataset\n",
    "deepfake_compact_dataset2 = DatasetBaseUnsupervised_deepfake('data_deepfake/compact-test/')\n",
    "resized_augmented_dataset2 = MultiCropDatasetDeepfake(deepfake_compact_dataset2,[224],[1],[1.0],[1.0],augment=True)\n",
    "\n",
    "device = torch.device('cuda:0') if torch.cuda.is_available() else torch.device('cpu')\n",
    "\n",
    "my_model = get_resnet(device)\n",
    "my_model.load_state_dict(torch.load(\"finetuned only distance/finetuned-backbone.pth\"))\n",
    "my_model.to(device)\n",
    "\n",
    "# Step 3: Specify loss function and optimizer\n",
    "criterion = EuclideanLoss()  # Mean squared error loss\n",
    "criterion_contrast = ContrastiveLossWithMargin(50)\n",
    "# optimizer = optim.SGD(my_model.parameters(), lr=0.001)  # Stochastic Gradient Descent\n",
    "\n",
    "# Create a DataLoader\n",
    "batch_size = 32\n",
    "dataloader = DataLoader(resized_augmented_dataset, batch_size=batch_size, shuffle=False)\n",
    "dataloader2 = DataLoader(resized_augmented_dataset2, batch_size=batch_size, shuffle=False)\n",
    "\n",
    "# evaluate model:\n",
    "my_model.eval()\n",
    "\n",
    "\n",
    "distances = []\n",
    "distances_idempotence = []\n",
    "losses_teacher_raw = []\n",
    "losses_teacher_recons = []\n",
    "efficientnet_distances = []\n",
    "efficientnet_distances_idempotence = []\n",
    "# Iterate over the DataLoader\n",
    "for i, (batch_raw_im, batch_recons_im, batch_double_im, batch_raw_features, batch_recons_features, batch_double_features) in enumerate(dataloader):\n",
    "    # Process the batch_data and batch_labels here\n",
    "    #print(f\"number of crops: {len(batch_raw_im)}\")\n",
    "    #print(f\"Batch data shape: {batch_raw_im[0].shape}, Batch labels shape: {torch.squeeze(batch_raw_features).shape}\")\n",
    "    with torch.no_grad():\n",
    "        batch_raw_features = torch.squeeze(batch_raw_features)\n",
    "        batch_recons_features = torch.squeeze(batch_recons_features)\n",
    "        batch_double_features = torch.squeeze(batch_double_features)\n",
    "        out_feature_raw = my_model(batch_raw_im[0].to(device)) # single crops\n",
    "        out_feature_recons = my_model(batch_recons_im[0].to(device)) # # single crops\n",
    "        out_feature_double = my_model(batch_double_im[0].to(device)) # # single crops\n",
    "        loss_raw_teacher_net = criterion(out_feature_raw, batch_raw_features) #D1\n",
    "        loss_recons_teacher_net = criterion(out_feature_recons, batch_recons_features) #D22 (swapped)\n",
    "        #loss_contrastive, euclidean_distance = criterion_contrast(out_feature_raw, out_feature_raw_gen) # dis(D1,D2)\n",
    "        #euclidean_distance_per_image = torch.pow(F.pairwise_distance(out_feature_raw, out_feature_raw_gen, keepdim = True),2)\n",
    "        loss_idempotence, euclidean_idempotence = criterion_contrast(out_feature_recons, out_feature_double) #dis(D22, D3)\n",
    "        euclidean_idempotence_per_image = torch.pow(F.pairwise_distance(out_feature_recons, out_feature_double, keepdim = True),2)\n",
    "        #_, effi_euclidean = criterion_contrast(batch_raw_features, batch_recons_features)\n",
    "        #effi_euclidean_distance_per_image = torch.pow(F.pairwise_distance(batch_raw_features, batch_raw_gen_features, keepdim = True),2)\n",
    "        #_, effi_euclidean_idempotence = criterion_contrast(batch_recons_features, batch_double_features)\n",
    "        effi_idempotence_distance_per_image = torch.pow(F.pairwise_distance(batch_recons_features, batch_double_features, keepdim = True),2)\n",
    "        #distances.extend(euclidean_distance_per_image.cpu().numpy()[:,0].tolist())\n",
    "        distances_idempotence.extend(euclidean_idempotence_per_image.cpu().numpy()[:,0].tolist())\n",
    "        #efficientnet_distances.extend(effi_euclidean_distance_per_image.cpu().numpy()[:,0].tolist())\n",
    "        efficientnet_distances_idempotence.extend(effi_idempotence_distance_per_image.cpu().numpy()[:,0].tolist())\n",
    "        losses_teacher_raw.append(loss_raw_teacher_net.item())\n",
    "        losses_teacher_recons.append(loss_recons_teacher_net.item())\n",
    "\n",
    "for i, (batch_raw_im, batch_recons_im, batch_raw_features, batch_recons_features) in enumerate(dataloader2):\n",
    "    # Process the batch_data and batch_labels here\n",
    "    #print(f\"number of crops: {len(batch_raw_im)}\")\n",
    "    #print(f\"Batch data shape: {batch_raw_im[0].shape}, Batch labels shape: {torch.squeeze(batch_raw_features).shape}\")\n",
    "    with torch.no_grad():\n",
    "        batch_raw_features = torch.squeeze(batch_raw_features)\n",
    "        batch_recons_features = torch.squeeze(batch_recons_features)\n",
    "        out_feature_raw = my_model(batch_raw_im[0].to(device)) # single crops\n",
    "        out_feature_recons = my_model(batch_recons_im[0].to(device)) # # single crops\n",
    "        loss_raw_teacher_net = criterion(out_feature_raw, batch_raw_features) #D1\n",
    "        loss_recons_teacher_net = criterion(out_feature_recons, batch_recons_features) #D2 (swapped)\n",
    "        loss_contrastive, euclidean_distance = criterion_contrast(out_feature_raw, out_feature_recons) # dis(D1,D2)\n",
    "        euclidean_distance_per_image = torch.pow(F.pairwise_distance(out_feature_raw, out_feature_recons, keepdim = True),2)\n",
    "\n",
    "        effi_euclidean_distance_per_image = torch.pow(F.pairwise_distance(batch_raw_features, batch_recons_features, keepdim = True),2)\n",
    "        distances.extend(euclidean_distance_per_image.cpu().numpy()[:,0].tolist())\n",
    "        efficientnet_distances.extend(effi_euclidean_distance_per_image.cpu().numpy()[:,0].tolist())\n",
    "        losses_teacher_raw.append(loss_raw_teacher_net.item())\n",
    "        losses_teacher_recons.append(loss_recons_teacher_net.item())\n",
    "\n",
    "import numpy as np\n",
    "from sklearn.metrics import confusion_matrix, roc_curve, auc, classification_report\n",
    "print(np.mean(distances), np.min(distances), np.max(distances))\n",
    "print(np.mean(distances_idempotence), np.min(distances_idempotence), np.max(distances_idempotence))\n",
    "prediction = np.concatenate((distances, distances_idempotence))\n",
    "actual = np.concatenate((np.ones(len(distances)), np.zeros(len(distances_idempotence))))\n",
    "false_pos_rate, true_pos_rate, _ = roc_curve(actual, prediction)\n",
    "roc_auc = auc(false_pos_rate, true_pos_rate)\n",
    "print('celebdf tuned  AUC=', roc_auc)\n",
    "# Create a histogram to visualize the probability density of the data\n",
    "plt.figure()\n",
    "plt.hist(distances, bins=60, density=True, alpha=0.5, color='b', label='Auth')\n",
    "plt.hist(distances_idempotence, bins=60, density=True, alpha=0.5, color='r', label='Deepfake')\n",
    "# Add labels and a title\n",
    "plt.xlabel('Values')\n",
    "plt.ylabel('Probability Density')\n",
    "plt.title('Probability Density Plot for Data')\n",
    "\n",
    "\n",
    "print(np.mean(efficientnet_distances), np.min(efficientnet_distances), np.max(efficientnet_distances))\n",
    "print(np.mean(efficientnet_distances_idempotence), np.min(efficientnet_distances_idempotence), np.max(efficientnet_distances_idempotence))\n",
    "print(np.mean(losses_teacher_raw), np.min(losses_teacher_raw), np.max(losses_teacher_raw))\n",
    "print(np.mean(losses_teacher_recons), np.min(losses_teacher_recons), np.max(losses_teacher_recons))\n",
    "prediction = np.concatenate((efficientnet_distances, efficientnet_distances_idempotence))\n",
    "actual = np.concatenate((np.ones(len(efficientnet_distances)), np.zeros(len(efficientnet_distances_idempotence))))\n",
    "false_pos_rate, true_pos_rate, _ = roc_curve(actual, prediction)\n",
    "roc_auc = auc(false_pos_rate, true_pos_rate)\n",
    "print('Efficientnet  AUC=', roc_auc)\n",
    "plt.figure()\n",
    "plt.hist(efficientnet_distances, bins=60, density=True, alpha=0.5, color='b', label='Auth')\n",
    "plt.hist(efficientnet_distances_idempotence, bins=60, density=True, alpha=0.5, color='r', label='Deepfake')\n",
    "# Add labels and a title\n",
    "plt.xlabel('Values')\n",
    "plt.ylabel('Probability Density')\n",
    "plt.title('Probability Density Plot for Data')"
   ],
   "metadata": {
    "collapsed": false,
    "pycharm": {
     "name": "#%%\n"
    }
   }
  },
  {
   "cell_type": "code",
   "execution_count": 3,
   "outputs": [
    {
     "name": "stdout",
     "output_type": "stream",
     "text": [
      "Base unsupervised dataloader initialised successfully\n",
      "3859\n",
      "Base unsupervised dataloader initialised successfully\n",
      "5415\n",
      "988939.4998891585 27.429349899291992 9476826.0\n",
      "570927.7341508496 5.305327892303467 7458894.5\n",
      "celebdf tuned  AUC= 0.6803140097485295\n",
      "34.112833637109205 0.13639600574970245 113.99568176269531\n",
      "25.745265996117887 0.06982073187828064 105.45792388916016\n",
      "3627318.0068728523 2285751.5 5543822.5\n",
      "1207051.8956185568 576942.1875 2370555.5\n",
      "Efficientnet  AUC= 0.6438217480116871\n"
     ]
    },
    {
     "data": {
      "text/plain": "Text(0.5, 1.0, 'Probability Density Plot for Data')"
     },
     "execution_count": 3,
     "metadata": {},
     "output_type": "execute_result"
    },
    {
     "data": {
      "text/plain": "<Figure size 432x288 with 1 Axes>",
      "image/png": "[encoded data removed]"
     },
     "metadata": {
      "needs_background": "light"
     },
     "output_type": "display_data"
    },
    {
     "data": {
      "text/plain": "<Figure size 432x288 with 1 Axes>",
      "image/png": "[encoded data removed]"
     },
     "metadata": {
      "needs_background": "light"
     },
     "output_type": "display_data"
    }
   ],
   "source": [
    "# Step 1: Prepare the dataset\n",
    "# Create an instance of your custom dataset\n",
    "# swapped approach dataset\n",
    "deepfake_compact_dataset = DatasetBaseUnsupervised_deepfake_idempotence('data_deepfake/compact-test-swapped/')\n",
    "resized_augmented_dataset = MultiCropDatasetDeepfake(deepfake_compact_dataset,[224],[1],[1.0],[1.0],augment=True)\n",
    "\n",
    "# generator approach dataset\n",
    "deepfake_compact_dataset2 = DatasetBaseUnsupervised_deepfake('data_deepfake/compact-test/')\n",
    "resized_augmented_dataset2 = MultiCropDatasetDeepfake(deepfake_compact_dataset2,[224],[1],[1.0],[1.0],augment=True)\n",
    "\n",
    "device = torch.device('cuda:0') if torch.cuda.is_available() else torch.device('cpu')\n",
    "\n",
    "my_model = get_resnet(device)\n",
    "my_model.load_state_dict(torch.load(\"finetuned on compact-train-swapped/finetuned-backbone.pth\"))\n",
    "my_model.to(device)\n",
    "\n",
    "# Step 3: Specify loss function and optimizer\n",
    "criterion = EuclideanLoss()  # Mean squared error loss\n",
    "criterion_contrast = ContrastiveLossWithMargin(50)\n",
    "# optimizer = optim.SGD(my_model.parameters(), lr=0.001)  # Stochastic Gradient Descent\n",
    "\n",
    "# Create a DataLoader\n",
    "batch_size = 32\n",
    "dataloader = DataLoader(resized_augmented_dataset, batch_size=batch_size, shuffle=False)\n",
    "dataloader2 = DataLoader(resized_augmented_dataset2, batch_size=batch_size, shuffle=False)\n",
    "\n",
    "# evaluate model:\n",
    "my_model.eval()\n",
    "\n",
    "\n",
    "distances = []\n",
    "distances_idempotence = []\n",
    "losses_teacher_raw = []\n",
    "losses_teacher_recons = []\n",
    "efficientnet_distances = []\n",
    "efficientnet_distances_idempotence = []\n",
    "# Iterate over the DataLoader\n",
    "for i, (batch_raw_im, batch_recons_im, batch_double_im, batch_raw_features, batch_recons_features, batch_double_features) in enumerate(dataloader):\n",
    "    # Process the batch_data and batch_labels here\n",
    "    #print(f\"number of crops: {len(batch_raw_im)}\")\n",
    "    #print(f\"Batch data shape: {batch_raw_im[0].shape}, Batch labels shape: {torch.squeeze(batch_raw_features).shape}\")\n",
    "    with torch.no_grad():\n",
    "        batch_raw_features = torch.squeeze(batch_raw_features)\n",
    "        batch_recons_features = torch.squeeze(batch_recons_features)\n",
    "        batch_double_features = torch.squeeze(batch_double_features)\n",
    "        out_feature_raw = my_model(batch_raw_im[0].to(device)) # single crops\n",
    "        out_feature_recons = my_model(batch_recons_im[0].to(device)) # # single crops\n",
    "        out_feature_double = my_model(batch_double_im[0].to(device)) # # single crops\n",
    "        loss_raw_teacher_net = criterion(out_feature_raw, batch_raw_features) #D1\n",
    "        loss_recons_teacher_net = criterion(out_feature_recons, batch_recons_features) #D22 (swapped)\n",
    "        #loss_contrastive, euclidean_distance = criterion_contrast(out_feature_raw, out_feature_raw_gen) # dis(D1,D2)\n",
    "        #euclidean_distance_per_image = torch.pow(F.pairwise_distance(out_feature_raw, out_feature_raw_gen, keepdim = True),2)\n",
    "        loss_idempotence, euclidean_idempotence = criterion_contrast(out_feature_recons, out_feature_double) #dis(D22, D3)\n",
    "        euclidean_idempotence_per_image = torch.pow(F.pairwise_distance(out_feature_recons, out_feature_double, keepdim = True),2)\n",
    "        #_, effi_euclidean = criterion_contrast(batch_raw_features, batch_recons_features)\n",
    "        #effi_euclidean_distance_per_image = torch.pow(F.pairwise_distance(batch_raw_features, batch_raw_gen_features, keepdim = True),2)\n",
    "        #_, effi_euclidean_idempotence = criterion_contrast(batch_recons_features, batch_double_features)\n",
    "        effi_idempotence_distance_per_image = torch.pow(F.pairwise_distance(batch_recons_features, batch_double_features, keepdim = True),2)\n",
    "        #distances.extend(euclidean_distance_per_image.cpu().numpy()[:,0].tolist())\n",
    "        distances_idempotence.extend(euclidean_idempotence_per_image.cpu().numpy()[:,0].tolist())\n",
    "        #efficientnet_distances.extend(effi_euclidean_distance_per_image.cpu().numpy()[:,0].tolist())\n",
    "        efficientnet_distances_idempotence.extend(effi_idempotence_distance_per_image.cpu().numpy()[:,0].tolist())\n",
    "        losses_teacher_raw.append(loss_raw_teacher_net.item())\n",
    "        losses_teacher_recons.append(loss_recons_teacher_net.item())\n",
    "\n",
    "for i, (batch_raw_im, batch_recons_im, batch_raw_features, batch_recons_features) in enumerate(dataloader2):\n",
    "    # Process the batch_data and batch_labels here\n",
    "    #print(f\"number of crops: {len(batch_raw_im)}\")\n",
    "    #print(f\"Batch data shape: {batch_raw_im[0].shape}, Batch labels shape: {torch.squeeze(batch_raw_features).shape}\")\n",
    "    with torch.no_grad():\n",
    "        batch_raw_features = torch.squeeze(batch_raw_features)\n",
    "        batch_recons_features = torch.squeeze(batch_recons_features)\n",
    "        out_feature_raw = my_model(batch_raw_im[0].to(device)) # single crops\n",
    "        out_feature_recons = my_model(batch_recons_im[0].to(device)) # # single crops\n",
    "        loss_raw_teacher_net = criterion(out_feature_raw, batch_raw_features) #D1\n",
    "        loss_recons_teacher_net = criterion(out_feature_recons, batch_recons_features) #D2 (swapped)\n",
    "        loss_contrastive, euclidean_distance = criterion_contrast(out_feature_raw, out_feature_recons) # dis(D1,D2)\n",
    "        euclidean_distance_per_image = torch.pow(F.pairwise_distance(out_feature_raw, out_feature_recons, keepdim = True),2)\n",
    "\n",
    "        effi_euclidean_distance_per_image = torch.pow(F.pairwise_distance(batch_raw_features, batch_recons_features, keepdim = True),2)\n",
    "        distances.extend(euclidean_distance_per_image.cpu().numpy()[:,0].tolist())\n",
    "        efficientnet_distances.extend(effi_euclidean_distance_per_image.cpu().numpy()[:,0].tolist())\n",
    "        losses_teacher_raw.append(loss_raw_teacher_net.item())\n",
    "        losses_teacher_recons.append(loss_recons_teacher_net.item())\n",
    "\n",
    "import numpy as np\n",
    "from sklearn.metrics import confusion_matrix, roc_curve, auc, classification_report\n",
    "print(np.mean(distances), np.min(distances), np.max(distances))\n",
    "print(np.mean(distances_idempotence), np.min(distances_idempotence), np.max(distances_idempotence))\n",
    "prediction = np.concatenate((distances, distances_idempotence))\n",
    "actual = np.concatenate((np.ones(len(distances)), np.zeros(len(distances_idempotence))))\n",
    "false_pos_rate, true_pos_rate, _ = roc_curve(actual, prediction)\n",
    "roc_auc = auc(false_pos_rate, true_pos_rate)\n",
    "print('celebdf tuned  AUC=', roc_auc)\n",
    "# Create a histogram to visualize the probability density of the data\n",
    "plt.figure()\n",
    "plt.hist(distances, bins=60, density=True, alpha=0.5, color='b', label='Auth')\n",
    "plt.hist(distances_idempotence, bins=60, density=True, alpha=0.5, color='r', label='Deepfake')\n",
    "# Add labels and a title\n",
    "plt.xlabel('Values')\n",
    "plt.ylabel('Probability Density')\n",
    "plt.title('Probability Density Plot for Data')\n",
    "\n",
    "\n",
    "print(np.mean(efficientnet_distances), np.min(efficientnet_distances), np.max(efficientnet_distances))\n",
    "print(np.mean(efficientnet_distances_idempotence), np.min(efficientnet_distances_idempotence), np.max(efficientnet_distances_idempotence))\n",
    "print(np.mean(losses_teacher_raw), np.min(losses_teacher_raw), np.max(losses_teacher_raw))\n",
    "print(np.mean(losses_teacher_recons), np.min(losses_teacher_recons), np.max(losses_teacher_recons))\n",
    "prediction = np.concatenate((efficientnet_distances, efficientnet_distances_idempotence))\n",
    "actual = np.concatenate((np.ones(len(efficientnet_distances)), np.zeros(len(efficientnet_distances_idempotence))))\n",
    "false_pos_rate, true_pos_rate, _ = roc_curve(actual, prediction)\n",
    "roc_auc = auc(false_pos_rate, true_pos_rate)\n",
    "print('Efficientnet  AUC=', roc_auc)\n",
    "plt.figure()\n",
    "plt.hist(efficientnet_distances, bins=60, density=True, alpha=0.5, color='b', label='Auth')\n",
    "plt.hist(efficientnet_distances_idempotence, bins=60, density=True, alpha=0.5, color='r', label='Deepfake')\n",
    "# Add labels and a title\n",
    "plt.xlabel('Values')\n",
    "plt.ylabel('Probability Density')\n",
    "plt.title('Probability Density Plot for Data')"
   ],
   "metadata": {
    "collapsed": false,
    "pycharm": {
     "name": "#%%\n"
    }
   }
  },
  {
   "cell_type": "code",
   "execution_count": 4,
   "outputs": [
    {
     "name": "stdout",
     "output_type": "stream",
     "text": [
      "Base unsupervised dataloader initialised successfully\n",
      "3859\n",
      "Base unsupervised dataloader initialised successfully\n",
      "5415\n",
      "8.55468585286857 0.07997342199087143 54.35848617553711\n",
      "6.37312795289525 0.029476935043931007 36.76567459106445\n",
      "celebdf tuned  AUC= 0.6314503850767247\n",
      "34.112833637109205 0.13639600574970245 113.99568176269531\n",
      "25.745265996117887 0.06982073187828064 105.45792388916016\n",
      "38.85558412165167 34.91674041748047 42.79670715332031\n",
      "36.54094744547945 32.72869110107422 42.05327224731445\n",
      "Efficientnet  AUC= 0.6438217480116871\n"
     ]
    },
    {
     "data": {
      "text/plain": "Text(0.5, 1.0, 'Probability Density Plot for Data')"
     },
     "execution_count": 4,
     "metadata": {},
     "output_type": "execute_result"
    },
    {
     "data": {
      "text/plain": "<Figure size 432x288 with 1 Axes>",
      "image/png": "[encoded data removed]"
     },
     "metadata": {
      "needs_background": "light"
     },
     "output_type": "display_data"
    },
    {
     "data": {
      "text/plain": "<Figure size 432x288 with 1 Axes>",
      "image/png": "[encoded data removed]"
     },
     "metadata": {
      "needs_background": "light"
     },
     "output_type": "display_data"
    }
   ],
   "source": [
    "# Step 1: Prepare the dataset\n",
    "# Create an instance of your custom dataset\n",
    "# swapped approach dataset\n",
    "deepfake_compact_dataset = DatasetBaseUnsupervised_deepfake_idempotence('data_deepfake/compact-test-swapped/')\n",
    "resized_augmented_dataset = MultiCropDatasetDeepfake(deepfake_compact_dataset,[224],[1],[1.0],[1.0],augment=True)\n",
    "\n",
    "# generator approach dataset\n",
    "deepfake_compact_dataset2 = DatasetBaseUnsupervised_deepfake('data_deepfake/compact-test/')\n",
    "resized_augmented_dataset2 = MultiCropDatasetDeepfake(deepfake_compact_dataset2,[224],[1],[1.0],[1.0],augment=True)\n",
    "\n",
    "device = torch.device('cuda:0') if torch.cuda.is_available() else torch.device('cpu')\n",
    "\n",
    "my_model = get_resnet(device)\n",
    "my_model.load_state_dict(torch.load(\"finetuned only with teacher/finetuned-backbone.pth\"))\n",
    "my_model.to(device)\n",
    "\n",
    "# Step 3: Specify loss function and optimizer\n",
    "criterion = EuclideanLoss()  # Mean squared error loss\n",
    "criterion_contrast = ContrastiveLossWithMargin(50)\n",
    "# optimizer = optim.SGD(my_model.parameters(), lr=0.001)  # Stochastic Gradient Descent\n",
    "\n",
    "# Create a DataLoader\n",
    "batch_size = 32\n",
    "dataloader = DataLoader(resized_augmented_dataset, batch_size=batch_size, shuffle=False)\n",
    "dataloader2 = DataLoader(resized_augmented_dataset2, batch_size=batch_size, shuffle=False)\n",
    "\n",
    "# evaluate model:\n",
    "my_model.eval()\n",
    "\n",
    "\n",
    "distances = []\n",
    "distances_idempotence = []\n",
    "losses_teacher_raw = []\n",
    "losses_teacher_recons = []\n",
    "efficientnet_distances = []\n",
    "efficientnet_distances_idempotence = []\n",
    "# Iterate over the DataLoader\n",
    "for i, (batch_raw_im, batch_recons_im, batch_double_im, batch_raw_features, batch_recons_features, batch_double_features) in enumerate(dataloader):\n",
    "    # Process the batch_data and batch_labels here\n",
    "    #print(f\"number of crops: {len(batch_raw_im)}\")\n",
    "    #print(f\"Batch data shape: {batch_raw_im[0].shape}, Batch labels shape: {torch.squeeze(batch_raw_features).shape}\")\n",
    "    with torch.no_grad():\n",
    "        batch_raw_features = torch.squeeze(batch_raw_features)\n",
    "        batch_recons_features = torch.squeeze(batch_recons_features)\n",
    "        batch_double_features = torch.squeeze(batch_double_features)\n",
    "        out_feature_raw = my_model(batch_raw_im[0].to(device)) # single crops\n",
    "        out_feature_recons = my_model(batch_recons_im[0].to(device)) # # single crops\n",
    "        out_feature_double = my_model(batch_double_im[0].to(device)) # # single crops\n",
    "        loss_raw_teacher_net = criterion(out_feature_raw, batch_raw_features) #D1\n",
    "        loss_recons_teacher_net = criterion(out_feature_recons, batch_recons_features) #D22 (swapped)\n",
    "        #loss_contrastive, euclidean_distance = criterion_contrast(out_feature_raw, out_feature_raw_gen) # dis(D1,D2)\n",
    "        #euclidean_distance_per_image = torch.pow(F.pairwise_distance(out_feature_raw, out_feature_raw_gen, keepdim = True),2)\n",
    "        loss_idempotence, euclidean_idempotence = criterion_contrast(out_feature_recons, out_feature_double) #dis(D22, D3)\n",
    "        euclidean_idempotence_per_image = torch.pow(F.pairwise_distance(out_feature_recons, out_feature_double, keepdim = True),2)\n",
    "        #_, effi_euclidean = criterion_contrast(batch_raw_features, batch_recons_features)\n",
    "        #effi_euclidean_distance_per_image = torch.pow(F.pairwise_distance(batch_raw_features, batch_raw_gen_features, keepdim = True),2)\n",
    "        #_, effi_euclidean_idempotence = criterion_contrast(batch_recons_features, batch_double_features)\n",
    "        effi_idempotence_distance_per_image = torch.pow(F.pairwise_distance(batch_recons_features, batch_double_features, keepdim = True),2)\n",
    "        #distances.extend(euclidean_distance_per_image.cpu().numpy()[:,0].tolist())\n",
    "        distances_idempotence.extend(euclidean_idempotence_per_image.cpu().numpy()[:,0].tolist())\n",
    "        #efficientnet_distances.extend(effi_euclidean_distance_per_image.cpu().numpy()[:,0].tolist())\n",
    "        efficientnet_distances_idempotence.extend(effi_idempotence_distance_per_image.cpu().numpy()[:,0].tolist())\n",
    "        losses_teacher_raw.append(loss_raw_teacher_net.item())\n",
    "        losses_teacher_recons.append(loss_recons_teacher_net.item())\n",
    "\n",
    "for i, (batch_raw_im, batch_recons_im, batch_raw_features, batch_recons_features) in enumerate(dataloader2):\n",
    "    # Process the batch_data and batch_labels here\n",
    "    #print(f\"number of crops: {len(batch_raw_im)}\")\n",
    "    #print(f\"Batch data shape: {batch_raw_im[0].shape}, Batch labels shape: {torch.squeeze(batch_raw_features).shape}\")\n",
    "    with torch.no_grad():\n",
    "        batch_raw_features = torch.squeeze(batch_raw_features)\n",
    "        batch_recons_features = torch.squeeze(batch_recons_features)\n",
    "        out_feature_raw = my_model(batch_raw_im[0].to(device)) # single crops\n",
    "        out_feature_recons = my_model(batch_recons_im[0].to(device)) # # single crops\n",
    "        loss_raw_teacher_net = criterion(out_feature_raw, batch_raw_features) #D1\n",
    "        loss_recons_teacher_net = criterion(out_feature_recons, batch_recons_features) #D2 (swapped)\n",
    "        loss_contrastive, euclidean_distance = criterion_contrast(out_feature_raw, out_feature_recons) # dis(D1,D2)\n",
    "        euclidean_distance_per_image = torch.pow(F.pairwise_distance(out_feature_raw, out_feature_recons, keepdim = True),2)\n",
    "\n",
    "        effi_euclidean_distance_per_image = torch.pow(F.pairwise_distance(batch_raw_features, batch_recons_features, keepdim = True),2)\n",
    "        distances.extend(euclidean_distance_per_image.cpu().numpy()[:,0].tolist())\n",
    "        efficientnet_distances.extend(effi_euclidean_distance_per_image.cpu().numpy()[:,0].tolist())\n",
    "        losses_teacher_raw.append(loss_raw_teacher_net.item())\n",
    "        losses_teacher_recons.append(loss_recons_teacher_net.item())\n",
    "\n",
    "import numpy as np\n",
    "from sklearn.metrics import confusion_matrix, roc_curve, auc, classification_report\n",
    "print(np.mean(distances), np.min(distances), np.max(distances))\n",
    "print(np.mean(distances_idempotence), np.min(distances_idempotence), np.max(distances_idempotence))\n",
    "prediction = np.concatenate((distances, distances_idempotence))\n",
    "actual = np.concatenate((np.ones(len(distances)), np.zeros(len(distances_idempotence))))\n",
    "false_pos_rate, true_pos_rate, _ = roc_curve(actual, prediction)\n",
    "roc_auc = auc(false_pos_rate, true_pos_rate)\n",
    "print('celebdf tuned  AUC=', roc_auc)\n",
    "# Create a histogram to visualize the probability density of the data\n",
    "plt.figure()\n",
    "plt.hist(distances, bins=60, density=True, alpha=0.5, color='b', label='Auth')\n",
    "plt.hist(distances_idempotence, bins=60, density=True, alpha=0.5, color='r', label='Deepfake')\n",
    "# Add labels and a title\n",
    "plt.xlabel('Values')\n",
    "plt.ylabel('Probability Density')\n",
    "plt.title('Probability Density Plot for Data')\n",
    "\n",
    "\n",
    "print(np.mean(efficientnet_distances), np.min(efficientnet_distances), np.max(efficientnet_distances))\n",
    "print(np.mean(efficientnet_distances_idempotence), np.min(efficientnet_distances_idempotence), np.max(efficientnet_distances_idempotence))\n",
    "print(np.mean(losses_teacher_raw), np.min(losses_teacher_raw), np.max(losses_teacher_raw))\n",
    "print(np.mean(losses_teacher_recons), np.min(losses_teacher_recons), np.max(losses_teacher_recons))\n",
    "prediction = np.concatenate((efficientnet_distances, efficientnet_distances_idempotence))\n",
    "actual = np.concatenate((np.ones(len(efficientnet_distances)), np.zeros(len(efficientnet_distances_idempotence))))\n",
    "false_pos_rate, true_pos_rate, _ = roc_curve(actual, prediction)\n",
    "roc_auc = auc(false_pos_rate, true_pos_rate)\n",
    "print('Efficientnet  AUC=', roc_auc)\n",
    "plt.figure()\n",
    "plt.hist(efficientnet_distances, bins=60, density=True, alpha=0.5, color='b', label='Auth')\n",
    "plt.hist(efficientnet_distances_idempotence, bins=60, density=True, alpha=0.5, color='r', label='Deepfake')\n",
    "# Add labels and a title\n",
    "plt.xlabel('Values')\n",
    "plt.ylabel('Probability Density')\n",
    "plt.title('Probability Density Plot for Data')"
   ],
   "metadata": {
    "collapsed": false,
    "pycharm": {
     "name": "#%%\n"
    }
   }
  },
  {
   "cell_type": "code",
   "execution_count": null,
   "outputs": [],
   "source": [],
   "metadata": {
    "collapsed": false,
    "pycharm": {
     "name": "#%%\n"
    }
   }
  }
 ],
 "metadata": {
  "kernelspec": {
   "display_name": "Python 3",
   "language": "python",
   "name": "python3"
  },
  "language_info": {
   "codemirror_mode": {
    "name": "ipython",
    "version": 2
   },
   "file_extension": ".py",
   "mimetype": "text/x-python",
   "name": "python",
   "nbconvert_exporter": "python",
   "pygments_lexer": "ipython2",
   "version": "2.7.6"
  }
 },
 "nbformat": 4,
 "nbformat_minor": 0
}
